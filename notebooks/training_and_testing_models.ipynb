{
 "cells": [
  {
   "cell_type": "code",
   "execution_count": 1,
   "metadata": {},
   "outputs": [],
   "source": [
    "%reload_ext autoreload\n",
    "%autoreload 2"
   ]
  },
  {
   "cell_type": "code",
   "execution_count": 2,
   "metadata": {},
   "outputs": [],
   "source": [
    "import sys\n",
    "sys.path.append(\"../src\")\n",
    "\n",
    "import matplotlib.pyplot as plt\n",
    "import numpy as np\n",
    "import pandas as pd\n",
    "import xgboost as xgb\n",
    "import pickle\n",
    "\n",
    "from sklearn.model_selection import train_test_split\n",
    "from sklearn import linear_model, tree\n",
    "\n",
    "from data_process import load_data, data_preprocessor\n",
    "from testing import test_model\n"
   ]
  },
  {
   "cell_type": "markdown",
   "metadata": {},
   "source": [
    "### Loading the data"
   ]
  },
  {
   "cell_type": "code",
   "execution_count": 7,
   "metadata": {},
   "outputs": [],
   "source": [
    "file_path = \"../data/accepted_2007_to_2018Q4.csv\"\n",
    "\n",
    "data = load_data(file_path)\n",
    "\n",
    "X = data.drop(columns=['loan_status'])\n",
    "y = data['loan_status']\n",
    "\n",
    "X_train_df, X_test_df, y_train, y_test = train_test_split(X, y, test_size=0.05, random_state=42)"
   ]
  },
  {
   "cell_type": "markdown",
   "metadata": {},
   "source": [
    "### Preprocessing the data"
   ]
  },
  {
   "cell_type": "code",
   "execution_count": 9,
   "metadata": {},
   "outputs": [],
   "source": [
    "preprocessor = data_preprocessor(X_train_df)\n",
    "\n",
    "X_train = preprocessor.fit_transform(X_train_df)\n",
    "X_test = preprocessor.transform(X_test_df)"
   ]
  },
  {
   "cell_type": "markdown",
   "metadata": {},
   "source": [
    "### Initializing the models"
   ]
  },
  {
   "cell_type": "code",
   "execution_count": 10,
   "metadata": {},
   "outputs": [],
   "source": [
    "models = {\n",
    "    \"Logistic Regression\": linear_model.LogisticRegression(),\n",
    "    \"Decision Tree (max_depth = 5)\": tree.DecisionTreeClassifier(max_depth=5),\n",
    "    \"Decision Tree (max_depth = 10)\": tree.DecisionTreeClassifier(max_depth=10),\n",
    "    \"Decision Tree (max_depth = 15)\": tree.DecisionTreeClassifier(max_depth=15),\n",
    "    \"XGBoost\": xgb.XGBClassifier()\n",
    "}"
   ]
  },
  {
   "cell_type": "markdown",
   "metadata": {},
   "source": [
    "### Training the models"
   ]
  },
  {
   "cell_type": "code",
   "execution_count": 11,
   "metadata": {},
   "outputs": [],
   "source": [
    "for model in models.values():\n",
    "    model.fit(X_train, y_train)"
   ]
  },
  {
   "cell_type": "markdown",
   "metadata": {},
   "source": [
    "### Testing the models\n",
    "\n",
    "#### On the training set"
   ]
  },
  {
   "cell_type": "code",
   "execution_count": 20,
   "metadata": {},
   "outputs": [
    {
     "data": {
      "text/html": [
       "<div>\n",
       "<style scoped>\n",
       "    .dataframe tbody tr th:only-of-type {\n",
       "        vertical-align: middle;\n",
       "    }\n",
       "\n",
       "    .dataframe tbody tr th {\n",
       "        vertical-align: top;\n",
       "    }\n",
       "\n",
       "    .dataframe thead th {\n",
       "        text-align: right;\n",
       "    }\n",
       "</style>\n",
       "<table border=\"1\" class=\"dataframe\">\n",
       "  <thead>\n",
       "    <tr style=\"text-align: right;\">\n",
       "      <th></th>\n",
       "      <th>model</th>\n",
       "      <th>accuracy</th>\n",
       "      <th>sensitivity</th>\n",
       "      <th>specificity</th>\n",
       "      <th>AUC</th>\n",
       "    </tr>\n",
       "  </thead>\n",
       "  <tbody>\n",
       "    <tr>\n",
       "      <th>0</th>\n",
       "      <td>Logistic Regression</td>\n",
       "      <td>0.998436</td>\n",
       "      <td>0.993509</td>\n",
       "      <td>0.999834</td>\n",
       "      <td>0.999527</td>\n",
       "    </tr>\n",
       "    <tr>\n",
       "      <th>1</th>\n",
       "      <td>Decision Tree (max_depth = 5)</td>\n",
       "      <td>0.975500</td>\n",
       "      <td>0.911948</td>\n",
       "      <td>0.993531</td>\n",
       "      <td>0.976423</td>\n",
       "    </tr>\n",
       "    <tr>\n",
       "      <th>2</th>\n",
       "      <td>Decision Tree (max_depth = 10)</td>\n",
       "      <td>0.990412</td>\n",
       "      <td>0.960710</td>\n",
       "      <td>0.998839</td>\n",
       "      <td>0.997477</td>\n",
       "    </tr>\n",
       "    <tr>\n",
       "      <th>3</th>\n",
       "      <td>Decision Tree (max_depth = 15)</td>\n",
       "      <td>0.997736</td>\n",
       "      <td>0.990453</td>\n",
       "      <td>0.999803</td>\n",
       "      <td>0.999339</td>\n",
       "    </tr>\n",
       "    <tr>\n",
       "      <th>4</th>\n",
       "      <td>XGBoost</td>\n",
       "      <td>0.999896</td>\n",
       "      <td>0.999528</td>\n",
       "      <td>1.000000</td>\n",
       "      <td>1.000000</td>\n",
       "    </tr>\n",
       "  </tbody>\n",
       "</table>\n",
       "</div>"
      ],
      "text/plain": [
       "                            model  accuracy  sensitivity  specificity  \\\n",
       "0             Logistic Regression  0.998436     0.993509     0.999834   \n",
       "1   Decision Tree (max_depth = 5)  0.975500     0.911948     0.993531   \n",
       "2  Decision Tree (max_depth = 10)  0.990412     0.960710     0.998839   \n",
       "3  Decision Tree (max_depth = 15)  0.997736     0.990453     0.999803   \n",
       "4                         XGBoost  0.999896     0.999528     1.000000   \n",
       "\n",
       "        AUC  \n",
       "0  0.999527  \n",
       "1  0.976423  \n",
       "2  0.997477  \n",
       "3  0.999339  \n",
       "4  1.000000  "
      ]
     },
     "execution_count": 20,
     "metadata": {},
     "output_type": "execute_result"
    }
   ],
   "source": [
    "results = []\n",
    "\n",
    "for name, model in models.items():\n",
    "    model_res = test_model(model, X_train, y_train)\n",
    "    model_res = {\"model\": name, **model_res}\n",
    "\n",
    "    results.append(model_res)\n",
    "\n",
    "results_df = pd.DataFrame(results)\n",
    "\n",
    "results_df"
   ]
  },
  {
   "cell_type": "markdown",
   "metadata": {},
   "source": [
    "#### On the testing set"
   ]
  },
  {
   "cell_type": "code",
   "execution_count": 21,
   "metadata": {},
   "outputs": [
    {
     "data": {
      "text/html": [
       "<div>\n",
       "<style scoped>\n",
       "    .dataframe tbody tr th:only-of-type {\n",
       "        vertical-align: middle;\n",
       "    }\n",
       "\n",
       "    .dataframe tbody tr th {\n",
       "        vertical-align: top;\n",
       "    }\n",
       "\n",
       "    .dataframe thead th {\n",
       "        text-align: right;\n",
       "    }\n",
       "</style>\n",
       "<table border=\"1\" class=\"dataframe\">\n",
       "  <thead>\n",
       "    <tr style=\"text-align: right;\">\n",
       "      <th></th>\n",
       "      <th>model</th>\n",
       "      <th>accuracy</th>\n",
       "      <th>sensitivity</th>\n",
       "      <th>specificity</th>\n",
       "      <th>AUC</th>\n",
       "    </tr>\n",
       "  </thead>\n",
       "  <tbody>\n",
       "    <tr>\n",
       "      <th>0</th>\n",
       "      <td>Logistic Regression</td>\n",
       "      <td>0.998249</td>\n",
       "      <td>0.992913</td>\n",
       "      <td>0.999777</td>\n",
       "      <td>0.999354</td>\n",
       "    </tr>\n",
       "    <tr>\n",
       "      <th>1</th>\n",
       "      <td>Decision Tree (max_depth = 5)</td>\n",
       "      <td>0.974392</td>\n",
       "      <td>0.908979</td>\n",
       "      <td>0.993115</td>\n",
       "      <td>0.975557</td>\n",
       "    </tr>\n",
       "    <tr>\n",
       "      <th>2</th>\n",
       "      <td>Decision Tree (max_depth = 10)</td>\n",
       "      <td>0.989800</td>\n",
       "      <td>0.958585</td>\n",
       "      <td>0.998735</td>\n",
       "      <td>0.997054</td>\n",
       "    </tr>\n",
       "    <tr>\n",
       "      <th>3</th>\n",
       "      <td>Decision Tree (max_depth = 15)</td>\n",
       "      <td>0.997049</td>\n",
       "      <td>0.988817</td>\n",
       "      <td>0.999405</td>\n",
       "      <td>0.998423</td>\n",
       "    </tr>\n",
       "    <tr>\n",
       "      <th>4</th>\n",
       "      <td>XGBoost</td>\n",
       "      <td>0.999682</td>\n",
       "      <td>0.998570</td>\n",
       "      <td>1.000000</td>\n",
       "      <td>0.999966</td>\n",
       "    </tr>\n",
       "  </tbody>\n",
       "</table>\n",
       "</div>"
      ],
      "text/plain": [
       "                            model  accuracy  sensitivity  specificity  \\\n",
       "0             Logistic Regression  0.998249     0.992913     0.999777   \n",
       "1   Decision Tree (max_depth = 5)  0.974392     0.908979     0.993115   \n",
       "2  Decision Tree (max_depth = 10)  0.989800     0.958585     0.998735   \n",
       "3  Decision Tree (max_depth = 15)  0.997049     0.988817     0.999405   \n",
       "4                         XGBoost  0.999682     0.998570     1.000000   \n",
       "\n",
       "        AUC  \n",
       "0  0.999354  \n",
       "1  0.975557  \n",
       "2  0.997054  \n",
       "3  0.998423  \n",
       "4  0.999966  "
      ]
     },
     "execution_count": 21,
     "metadata": {},
     "output_type": "execute_result"
    }
   ],
   "source": [
    "results = []\n",
    "\n",
    "for name, model in models.items():\n",
    "    model_res = test_model(model, X_test, y_test)\n",
    "    model_res = {\"model\": name, **model_res}\n",
    "\n",
    "    results.append(model_res)\n",
    "\n",
    "results_df = pd.DataFrame(results)\n",
    "\n",
    "results_df"
   ]
  },
  {
   "cell_type": "markdown",
   "metadata": {},
   "source": [
    "### Saving the models"
   ]
  },
  {
   "cell_type": "code",
   "execution_count": 17,
   "metadata": {},
   "outputs": [],
   "source": [
    "for name, model in models.items():\n",
    "    file_name = name.replace(\" \", \"_\").lower()\n",
    "    with open(f\"../models/{file_name}.pkl\", \"wb\") as f:\n",
    "        pickle.dump(model, f)"
   ]
  },
  {
   "cell_type": "markdown",
   "metadata": {},
   "source": [
    "### Decision Tree visualisation"
   ]
  },
  {
   "cell_type": "code",
   "execution_count": 18,
   "metadata": {},
   "outputs": [
    {
     "data": {
      "image/png": "[encoded data removed]",
      "text/plain": [
       "<Figure size 640x480 with 1 Axes>"
      ]
     },
     "metadata": {},
     "output_type": "display_data"
    }
   ],
   "source": [
    "decision_tree = models[\"Decision Tree (max_depth = 5)\"]\n",
    "\n",
    "tree.plot_tree(decision_tree, max_depth=3, feature_names=preprocessor.get_feature_names_out())\n",
    "plt.show()"
   ]
  }
 ],
 "metadata": {
  "kernelspec": {
   "display_name": "pytorch",
   "language": "python",
   "name": "python3"
  },
  "language_info": {
   "codemirror_mode": {
    "name": "ipython",
    "version": 3
   },
   "file_extension": ".py",
   "mimetype": "text/x-python",
   "name": "python",
   "nbconvert_exporter": "python",
   "pygments_lexer": "ipython3",
   "version": "3.12.4"
  }
 },
 "nbformat": 4,
 "nbformat_minor": 2
}
